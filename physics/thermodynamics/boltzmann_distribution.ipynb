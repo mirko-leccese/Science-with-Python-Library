{
 "cells": [
  {
   "cell_type": "code",
   "execution_count": 1,
   "id": "65e63377-102e-45c3-bc43-0b9998629442",
   "metadata": {},
   "outputs": [],
   "source": [
    "import numpy as np\n",
    "import matplotlib.pyplot as plt\n",
    "import matplotlib\n",
    "from matplotlib import animation\n",
    "from matplotlib.animation import PillowWriter\n",
    "import scienceplots\n",
    "import itertools "
   ]
  },
  {
   "cell_type": "code",
   "execution_count": 2,
   "id": "e2f3710e-5bd5-4e79-86a2-5c9c192c18f3",
   "metadata": {},
   "outputs": [],
   "source": [
    "n_particles = 16\n",
    "r = np.random.random((2, n_particles))"
   ]
  },
  {
   "cell_type": "code",
   "execution_count": 3,
   "id": "f9e5f6d1-fed7-4ac7-af70-0abbf0094628",
   "metadata": {},
   "outputs": [
    {
     "data": {
      "text/plain": [
       "(2, 16)"
      ]
     },
     "execution_count": 3,
     "metadata": {},
     "output_type": "execute_result"
    }
   ],
   "source": [
    "r.shape"
   ]
  },
  {
   "cell_type": "code",
   "execution_count": 4,
   "id": "07e4c7ef-1fce-4dc8-bfc4-0040959904ed",
   "metadata": {},
   "outputs": [
    {
     "data": {
      "text/plain": [
       "<matplotlib.collections.PathCollection at 0x11676f910>"
      ]
     },
     "execution_count": 4,
     "metadata": {},
     "output_type": "execute_result"
    },
    {
     "data": {
      "image/png": "[encoded data removed]",
      "text/plain": [
       "<Figure size 640x480 with 1 Axes>"
      ]
     },
     "metadata": {},
     "output_type": "display_data"
    }
   ],
   "source": [
    "plt.scatter(r[0], r[1])"
   ]
  },
  {
   "cell_type": "code",
   "execution_count": 5,
   "id": "d2208e13-4c82-46bb-bbaa-edcb3a52174c",
   "metadata": {},
   "outputs": [],
   "source": [
    "ixr = r[0]>0.5\n",
    "ixl = r[0]<=0.5"
   ]
  },
  {
   "cell_type": "code",
   "execution_count": 6,
   "id": "05dda2dc-080f-4150-bc51-d4abf78c2e7a",
   "metadata": {},
   "outputs": [
    {
     "data": {
      "text/plain": [
       "array([False,  True, False,  True, False, False,  True, False, False,\n",
       "        True,  True, False,  True, False, False,  True])"
      ]
     },
     "execution_count": 6,
     "metadata": {},
     "output_type": "execute_result"
    }
   ],
   "source": [
    "ixr"
   ]
  },
  {
   "cell_type": "code",
   "execution_count": 7,
   "id": "d22d1d99-5aa6-43e3-a459-52f3f2b8dce1",
   "metadata": {},
   "outputs": [],
   "source": [
    "# giving id to particles\n",
    "id = np.arange(n_particles)"
   ]
  },
  {
   "cell_type": "code",
   "execution_count": 8,
   "id": "c8449308-fc03-4cae-9729-0d02b76fd68b",
   "metadata": {},
   "outputs": [
    {
     "data": {
      "text/plain": [
       "array([ 0,  1,  2,  3,  4,  5,  6,  7,  8,  9, 10, 11, 12, 13, 14, 15])"
      ]
     },
     "execution_count": 8,
     "metadata": {},
     "output_type": "execute_result"
    }
   ],
   "source": [
    "id"
   ]
  },
  {
   "cell_type": "code",
   "execution_count": 9,
   "id": "07145403-b1ea-4e2a-972e-af95093704de",
   "metadata": {},
   "outputs": [
    {
     "data": {
      "text/plain": [
       "<matplotlib.collections.PathCollection at 0x116994b50>"
      ]
     },
     "execution_count": 9,
     "metadata": {},
     "output_type": "execute_result"
    },
    {
     "data": {
      "image/png": "[encoded data removed]",
      "text/plain": [
       "<Figure size 600x600 with 1 Axes>"
      ]
     },
     "metadata": {},
     "output_type": "display_data"
    }
   ],
   "source": [
    "fig, ax = plt.subplots(figsize=(6,6))\n",
    "ax.scatter(r[0][ixr], r[1][ixr], color=\"r\", s=15)\n",
    "ax.scatter(r[0][ixl], r[1][ixl], color=\"b\", s=15)"
   ]
  },
  {
   "cell_type": "code",
   "execution_count": 10,
   "id": "5f27a90d-0e9c-4fbe-b8c3-b5b5bc20a17f",
   "metadata": {},
   "outputs": [],
   "source": [
    "# let create velocity (assume 500 m/s which is the speed of particle in a gas)\n",
    "v = np.zeros((2, n_particles))"
   ]
  },
  {
   "cell_type": "code",
   "execution_count": 11,
   "id": "06abbe4e-fe96-4369-bfe7-ffc5ceb90e6e",
   "metadata": {},
   "outputs": [],
   "source": [
    "# we set the v_x velocity component\n",
    "v[0][ixr] = -500\n",
    "v[0][ixl] = 500"
   ]
  },
  {
   "cell_type": "markdown",
   "id": "bf6a735f-575c-494d-a7ae-087935c7f137",
   "metadata": {},
   "source": [
    "We need to determine when the particle collides and hence we need to keep\n",
    "tracks of distances between particles"
   ]
  },
  {
   "cell_type": "code",
   "execution_count": 12,
   "id": "440cf69f-a1c9-4516-8adb-43a80669cba0",
   "metadata": {},
   "outputs": [],
   "source": [
    "id_pairs = np.asarray(list(itertools.combinations(id, 2)))"
   ]
  },
  {
   "cell_type": "code",
   "execution_count": 13,
   "id": "bdf02259-d3c4-4e4e-8683-4bbeff3bd8cb",
   "metadata": {},
   "outputs": [],
   "source": [
    "# let's find the combinations of x positions\n",
    "x_pairs = np.asarray(list(itertools.combinations(r[0], 2)))"
   ]
  },
  {
   "cell_type": "code",
   "execution_count": 14,
   "id": "f198b033-8019-4a80-9d93-2470e9dc6897",
   "metadata": {},
   "outputs": [
    {
     "data": {
      "text/plain": [
       "(120, 2)"
      ]
     },
     "execution_count": 14,
     "metadata": {},
     "output_type": "execute_result"
    }
   ],
   "source": [
    "x_pairs.shape"
   ]
  },
  {
   "cell_type": "code",
   "execution_count": 15,
   "id": "78b262f3-9352-4773-9f0e-9a667470d626",
   "metadata": {},
   "outputs": [],
   "source": [
    "# Let's take the difference. Ravel converts to 1D array\n",
    "dx_pairs = np.diff(x_pairs, axis=1).ravel()"
   ]
  },
  {
   "cell_type": "code",
   "execution_count": 16,
   "id": "854ee616-bf14-4098-9d33-fbad16f9f527",
   "metadata": {},
   "outputs": [
    {
     "data": {
      "text/plain": [
       "(120,)"
      ]
     },
     "execution_count": 16,
     "metadata": {},
     "output_type": "execute_result"
    }
   ],
   "source": [
    "dx_pairs.shape"
   ]
  },
  {
   "cell_type": "code",
   "execution_count": 17,
   "id": "4dc5ff70-7c7b-4c5b-b521-cba252c22ac6",
   "metadata": {},
   "outputs": [],
   "source": [
    "# the same for dy\n",
    "dy_pairs = np.diff(np.asarray(list(itertools.combinations(r[1], 2))), axis=1).ravel()"
   ]
  },
  {
   "cell_type": "code",
   "execution_count": 18,
   "id": "28653ae0-e11c-4706-b282-9e6fcd56beab",
   "metadata": {},
   "outputs": [
    {
     "data": {
      "text/plain": [
       "(120,)"
      ]
     },
     "execution_count": 18,
     "metadata": {},
     "output_type": "execute_result"
    }
   ],
   "source": [
    "dy_pairs.shape"
   ]
  },
  {
   "cell_type": "code",
   "execution_count": 19,
   "id": "98457c6d-d836-4626-a4ea-113c8f7b0081",
   "metadata": {},
   "outputs": [],
   "source": [
    "# Then the distances\n",
    "d_pairs = np.sqrt(dx_pairs**2+dy_pairs**2)"
   ]
  },
  {
   "cell_type": "markdown",
   "id": "b34f34c9-55f4-42fb-b238-fc625a249c61",
   "metadata": {},
   "source": [
    "Now, we need to determine the velocities after collision at each iteration. The collision will occur if the distance between two particles is less than $2r$. Assuming elastic collision, the new velocity of particle $1$ will be: "
   ]
  },
  {
   "cell_type": "markdown",
   "id": "60f1e693-dee7-4161-96f2-392e8004b200",
   "metadata": {},
   "source": [
    "$$v_1^{new}  = v_1 - \\frac{(v_1-v_2)\\cdot(r_1-r_2)}{|r_1-r_2|^2}(r_1-r_2)$$\n",
    "\n",
    "for the second particle is the opposite."
   ]
  },
  {
   "cell_type": "code",
   "execution_count": 20,
   "id": "d81dd185-67a5-4c5e-932c-4531c5c1a0ce",
   "metadata": {},
   "outputs": [],
   "source": [
    "radius = 0.06\n",
    "id_pairs_colliding = id_pairs[d_pairs<2*radius]"
   ]
  },
  {
   "cell_type": "code",
   "execution_count": 21,
   "id": "a095c4e7-522e-4d24-adbc-cddfb45472fc",
   "metadata": {},
   "outputs": [
    {
     "data": {
      "text/plain": [
       "array([[ 2,  5],\n",
       "       [ 2, 13],\n",
       "       [ 5, 13],\n",
       "       [ 6, 10],\n",
       "       [ 8, 14]])"
      ]
     },
     "execution_count": 21,
     "metadata": {},
     "output_type": "execute_result"
    }
   ],
   "source": [
    "id_pairs_colliding[:5]"
   ]
  },
  {
   "cell_type": "markdown",
   "id": "d36f9dbc-850f-4356-a2d1-7dad80ae6b0d",
   "metadata": {},
   "source": [
    "We consider the the particles in the first column as the particle \"1\", while those in the second column, particle \"2\"."
   ]
  },
  {
   "cell_type": "code",
   "execution_count": 22,
   "id": "f6e3d1cf-ace9-4bd4-a256-6266cd9af994",
   "metadata": {},
   "outputs": [
    {
     "data": {
      "text/plain": [
       "array([ 2,  2,  5,  6,  8, 12])"
      ]
     },
     "execution_count": 22,
     "metadata": {},
     "output_type": "execute_result"
    }
   ],
   "source": [
    "# particles 1\n",
    "id_pairs_colliding[:, 0]"
   ]
  },
  {
   "cell_type": "markdown",
   "id": "897edab6-b465-43ea-847a-00f7f9f204ee",
   "metadata": {},
   "source": [
    "The particle 1 colliding are those defined above. We need to define their velocities before collision. Remind that v is a numpy array of two rows (the x and y coordinates) and n columns, where n is the number of particles. We need then to take all rows but just columns of the colliding particle 1:"
   ]
  },
  {
   "cell_type": "code",
   "execution_count": 23,
   "id": "80fee28b-8482-4128-9800-09a0470629dc",
   "metadata": {},
   "outputs": [
    {
     "data": {
      "text/plain": [
       "(2, 16)"
      ]
     },
     "execution_count": 23,
     "metadata": {},
     "output_type": "execute_result"
    }
   ],
   "source": [
    "v.shape"
   ]
  },
  {
   "cell_type": "code",
   "execution_count": 24,
   "id": "c426ae46-8f12-4d46-ab56-f7308c25befd",
   "metadata": {},
   "outputs": [],
   "source": [
    "v1 = v[:,id_pairs_colliding[:,0]]"
   ]
  },
  {
   "cell_type": "code",
   "execution_count": 25,
   "id": "46bb3454-ae46-4246-b453-eb1c8d6ab797",
   "metadata": {},
   "outputs": [
    {
     "data": {
      "text/plain": [
       "(2, 6)"
      ]
     },
     "execution_count": 25,
     "metadata": {},
     "output_type": "execute_result"
    }
   ],
   "source": [
    "v1.shape"
   ]
  },
  {
   "cell_type": "code",
   "execution_count": 26,
   "id": "91c8b064-252f-442a-9bd5-ce77c93b98a4",
   "metadata": {},
   "outputs": [],
   "source": [
    "# Therefore equivalently\n",
    "v2 = v[:, id_pairs_colliding[:,1]]\n",
    "r1 = r[:, id_pairs_colliding[:,0]]\n",
    "r2 = r[:, id_pairs_colliding[:,1]]"
   ]
  },
  {
   "cell_type": "markdown",
   "id": "2309fea2-9aab-4e67-9906-ab75759c9b4e",
   "metadata": {},
   "source": [
    "To compute the new velocities, we can exploit matrix multiplication:"
   ]
  },
  {
   "cell_type": "code",
   "execution_count": 27,
   "id": "0ffc3ab8-9dae-4b83-986c-f7c8f8c5e8d4",
   "metadata": {},
   "outputs": [],
   "source": [
    "v1new = v1-np.diag((v1-v2).T@(r1-r2))/np.sum((r1-r2)**2, axis=0)*(r1-r2)"
   ]
  },
  {
   "cell_type": "code",
   "execution_count": 28,
   "id": "a800a9bc-ce96-4525-995c-8d090eed3b07",
   "metadata": {},
   "outputs": [],
   "source": [
    "v2new = v2-np.diag((v2-v1).T@(r2-r1))/np.sum((r2-r1)**2, axis=0)*(r2-r1)"
   ]
  },
  {
   "cell_type": "code",
   "execution_count": 29,
   "id": "c5762361-ba3a-4976-9a23-79bfbbaf87c8",
   "metadata": {},
   "outputs": [
    {
     "data": {
      "text/plain": [
       "array([[ 500.,  500.,  500., -500.,  500., -500.],\n",
       "       [   0.,    0.,    0.,    0.,    0.,    0.]])"
      ]
     },
     "execution_count": 29,
     "metadata": {},
     "output_type": "execute_result"
    }
   ],
   "source": [
    "v1new"
   ]
  },
  {
   "cell_type": "code",
   "execution_count": 30,
   "id": "b9329a00-3193-48b2-91cf-4c466fa2988b",
   "metadata": {},
   "outputs": [],
   "source": [
    "def get_delta_pairs(x, ids_pairs):\n",
    "    return np.diff(np.array([x[ids_pairs[:,0]], x[ids_pairs[:,1]]]).T, axis=1).ravel()\n",
    "\n",
    "def get_deltad_pairs(r, ids_pairs):\n",
    "    return np.sqrt(get_delta_pairs(r[0], ids_pairs)**2 + get_delta_pairs(r[1], ids_pairs)**2)\n",
    "\n",
    "def compute_new_v(v1, v2, r1, r2):\n",
    "    v1new = v1 - ((v1-v2)*(r1-r2)).sum(axis=0)/np.sum((r1-r2)**2, axis=0) * (r1-r2)\n",
    "    v2new = v2 - ((v1-v2)*(r1-r2)).sum(axis=0)/np.sum((r2-r1)**2, axis=0) * (r2-r1)\n",
    "    return v1new, v2new\n",
    "\n",
    "def motion(r, v, id_pairs, ts, dt, d_cutoff):\n",
    "    rs = np.zeros((ts, r.shape[0], r.shape[1]))\n",
    "    vs = np.zeros((ts, v.shape[0], v.shape[1]))\n",
    "    # Initial State\n",
    "    rs[0] = r.copy()\n",
    "    vs[0] = v.copy()\n",
    "    for i in range(1,ts):\n",
    "        ic = id_pairs[get_deltad_pairs(r, ids_pairs) < d_cutoff]\n",
    "        v[:,ic[:,0]], v[:,ic[:,1]] = compute_new_v(v[:,ic[:,0]], v[:,ic[:,1]], r[:,ic[:,0]], r[:,ic[:,1]])\n",
    "        \n",
    "        v[0,r[0]>1] = -np.abs(v[0,r[0]>1])\n",
    "        v[0,r[0]<0] = np.abs(v[0,r[0]<0])\n",
    "        v[1,r[1]>1] = -np.abs(v[1,r[1]>1])\n",
    "        v[1,r[1]<0] = np.abs(v[1,r[1]<0])\n",
    "        \n",
    "        r = r + v*dt\n",
    "        rs[i] = r.copy()\n",
    "        vs[i] = v.copy()\n",
    "    return rs, vs"
   ]
  },
  {
   "cell_type": "code",
   "execution_count": 31,
   "id": "f153b191-f9c5-4345-b588-b39ad2fa1633",
   "metadata": {},
   "outputs": [],
   "source": [
    "n_particles = 100\n",
    "r = np.random.random((2,n_particles))\n",
    "ixr = r[0]>0.5 \n",
    "ixl = r[0]<=0.5 \n",
    "ids = np.arange(n_particles)\n",
    "ids_pairs = np.asarray(list(itertools.combinations(ids,2)))\n",
    "v = np.zeros((2,n_particles))\n",
    "v[0][ixr] = -500\n",
    "v[0][ixl] = 500\n",
    "radius = 0.0015\n",
    "rs, vs = motion(r, v, ids_pairs, ts=1000, dt=0.000008, d_cutoff=2*radius)"
   ]
  },
  {
   "cell_type": "code",
   "execution_count": 32,
   "id": "18c8d5ab-ac6e-4756-a10f-eb62dad07682",
   "metadata": {},
   "outputs": [],
   "source": [
    "v = np.linspace(0, 2000, 1000)\n",
    "a = 2/500**2\n",
    "fv = a*v*np.exp(-a*v**2 / 2)"
   ]
  },
  {
   "cell_type": "code",
   "execution_count": 38,
   "id": "7c93b5ff-31fa-4cf3-8ba8-4903db0bbe63",
   "metadata": {},
   "outputs": [
    {
     "data": {
      "text/plain": [
       "(1000, 2, 100)"
      ]
     },
     "execution_count": 38,
     "metadata": {},
     "output_type": "execute_result"
    }
   ],
   "source": [
    "vs.shape"
   ]
  },
  {
   "cell_type": "code",
   "execution_count": 43,
   "id": "9702b431-9564-4442-a81a-d826432e9efa",
   "metadata": {},
   "outputs": [
    {
     "data": {
      "text/plain": [
       "Text(0, 0.5, '# Particles')"
      ]
     },
     "execution_count": 43,
     "metadata": {},
     "output_type": "execute_result"
    },
    {
     "data": {
      "image/png": "[encoded data removed]",
      "text/plain": [
       "<Figure size 640x480 with 1 Axes>"
      ]
     },
     "metadata": {},
     "output_type": "display_data"
    }
   ],
   "source": [
    "bins = np.linspace(0,1500, 10)\n",
    "plt.figure()\n",
    "plt.hist(np.sqrt(np.sum(vs[999]**2, axis=0)), bins=bins, density=True)\n",
    "plt.plot(v,fv)\n",
    "plt.ylim(0,0.01)\n",
    "plt.xlabel('Velocity [m/s]')\n",
    "plt.ylabel('# Particles')"
   ]
  },
  {
   "cell_type": "code",
   "execution_count": null,
   "id": "2e0219bd-2f10-4e3a-827f-779b9460a653",
   "metadata": {},
   "outputs": [],
   "source": [
    "fig, axes = plt.subplots(1, 2, figsize=(20,10))\n",
    "\n",
    "def animate(i):\n",
    "    [ax.clear() for ax in axes]\n",
    "    ax = axes[0]\n",
    "    xred, yred = rs[i][0][ixr], rs[i][1][ixr]\n",
    "    xblue, yblue = rs[i][0][ixl],rs[i][1][ixl]\n",
    "    circles_red = [plt.Circle((xi, yi), radius=4*radius, linewidth=0) for xi,yi in zip(xred,yred)]\n",
    "    circles_blue = [plt.Circle((xi, yi), radius=4*radius, linewidth=0) for xi,yi in zip(xblue,yblue)]\n",
    "    cred = matplotlib.collections.PatchCollection(circles_red, facecolors='red')\n",
    "    cblue = matplotlib.collections.PatchCollection(circles_blue, facecolors='blue')\n",
    "    ax.add_collection(cred)\n",
    "    ax.add_collection(cblue)\n",
    "    ax.set_xlim(0,1)\n",
    "    ax.set_ylim(0,1)\n",
    "    ax.tick_params(axis='x', labelsize=15)\n",
    "    ax.tick_params(axis='y', labelsize=15)\n",
    "    ax = axes[1]\n",
    "    ax.hist(np.sqrt(np.sum(vs[i]**2, axis=0)), bins=bins, density=True)\n",
    "    ax.plot(v,fv)\n",
    "    ax.set_xlabel('Velocity [m/s]')\n",
    "    ax.set_ylabel('# Particles')\n",
    "    ax.set_xlim(0,1500)\n",
    "    ax.set_ylim(0,0.006)\n",
    "    ax.tick_params(axis='x', labelsize=15)\n",
    "    ax.tick_params(axis='y', labelsize=15)\n",
    "    fig.tight_layout()\n",
    "    \n",
    "    \n",
    "ani = animation.FuncAnimation(fig, animate, frames=500, interval=50)\n",
    "ani.save('ani_complete.gif',writer='pillow',fps=30,dpi=100)"
   ]
  }
 ],
 "metadata": {
  "kernelspec": {
   "display_name": "Python 3 (ipykernel)",
   "language": "python",
   "name": "python3"
  },
  "language_info": {
   "codemirror_mode": {
    "name": "ipython",
    "version": 3
   },
   "file_extension": ".py",
   "mimetype": "text/x-python",
   "name": "python",
   "nbconvert_exporter": "python",
   "pygments_lexer": "ipython3",
   "version": "3.11.7"
  }
 },
 "nbformat": 4,
 "nbformat_minor": 5
}
